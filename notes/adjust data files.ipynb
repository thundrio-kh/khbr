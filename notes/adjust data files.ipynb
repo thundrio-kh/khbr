{
 "cells": [
  {
   "cell_type": "code",
   "execution_count": 1,
   "metadata": {},
   "outputs": [
    {
     "name": "stderr",
     "output_type": "stream",
     "text": [
      "/anaconda3/lib/python3.7/site-packages/ipykernel_launcher.py:5: YAMLLoadWarning: calling yaml.load() without Loader=... is deprecated, as the default Loader is unsafe. Please read https://msg.pyyaml.org/load for full details.\n",
      "  \"\"\"\n"
     ]
    }
   ],
   "source": [
    "import json, os, yaml\n",
    "fnenemies = os.path.join(\"khbr\", \"enemies.yaml\")\n",
    "fnlocations = os.path.join(\"locations_new.json\")\n",
    "\n",
    "enemies = yaml.load(open(fnenemies))\n",
    "locations = json.load(open(fnlocations))"
   ]
  },
  {
   "cell_type": "code",
   "execution_count": 2,
   "metadata": {},
   "outputs": [],
   "source": [
    "# Location edits\n",
    "\n",
    "name_mapping = {}\n",
    "\n",
    "for enemy in enemies.values():\n",
    "    i = enemy[\"obj_id\"]\n",
    "    for variation in enemy[\"variations\"]:\n",
    "        n = variation\n",
    "        vrs = enemy[\"variations\"][variation][\"vars\"]\n",
    "        name_mapping[\"{}-{}-{}\".format(i,vrs[0],vrs[1])] = {\"name\":n, \"type\": enemy[\"type\"]}\n",
    "                        \n",
    "missing = []\n",
    "for world in locations.values():\n",
    "    for room in world.values():\n",
    "        if \"msn\" in room:\n",
    "            del room[\"msn\"]\n",
    "        room[\"size\"] = 5000000\n",
    "        for spawnpoint in room[\"spawnpoints\"].values():\n",
    "            for idt in spawnpoint[\"units\"].values():\n",
    "                for ent in idt:\n",
    "                    key = \"{}-{}-{}\".format(ent[\"obj_id\"], ent[\"vars\"][1], ent[\"vars\"][2])\n",
    "                    if key not in name_mapping:\n",
    "                        missing.append(key)\n",
    "                        continue\n",
    "                    m = name_mapping[key]\n",
    "                    ent[\"name\"] = m[\"name\"]\n",
    "                    ent[\"isboss\"] = m[\"type\"] == \"boss\"\n",
    "                    del ent[\"obj_id\"]\n",
    "                    del ent[\"vars\"]\n",
    "for key in set(missing):\n",
    "    print(key)"
   ]
  },
  {
   "cell_type": "code",
   "execution_count": null,
   "metadata": {},
   "outputs": [],
   "source": [
    "enemies"
   ]
  },
  {
   "cell_type": "code",
   "execution_count": null,
   "metadata": {},
   "outputs": [],
   "source": [
    "enemies_orig[k][\"variations\"]"
   ]
  },
  {
   "cell_type": "code",
   "execution_count": null,
   "metadata": {},
   "outputs": [],
   "source": [
    "en[\"variations\"][vnew]['vars']"
   ]
  },
  {
   "cell_type": "code",
   "execution_count": null,
   "metadata": {},
   "outputs": [],
   "source": [
    "print(name_mapping[\"Data Marluxia\"])\n",
    "print(name_mapping[\"Data Marluxia (1)\"])"
   ]
  },
  {
   "cell_type": "code",
   "execution_count": null,
   "metadata": {},
   "outputs": [],
   "source": [
    "# Enemies edits\n",
    "limiters = {}\n",
    "for en in enemies:\n",
    "    enemy = enemies[en]\n",
    "#     for name in enemy[\"variations\"]:\n",
    "#         enemy[\"variations\"][name] = {\n",
    "#             \"vars\": enemy[\"variations\"][name],\n",
    "#         }\n",
    "    objentry = objlist[enemy[\"obj_id\"]]\n",
    "    enemy[\"limiter\"] = objentry[\"SpawnLimiter\"]\n",
    "    if not enemy[\"limiter\"] in limiters:\n",
    "        limiters[enemy[\"limiter\"]] = []\n",
    "    limiters[enemy[\"limiter\"]].append(en)\n",
    "for limit in sorted(limiters.keys()):\n",
    "    print(limit)\n",
    "    for e in limiters[limit]:\n",
    "        print(\"\\t{}\".format(e))"
   ]
  },
  {
   "cell_type": "code",
   "execution_count": null,
   "metadata": {},
   "outputs": [],
   "source": [
    "enemy"
   ]
  },
  {
   "cell_type": "code",
   "execution_count": null,
   "metadata": {},
   "outputs": [],
   "source": []
  },
  {
   "cell_type": "code",
   "execution_count": null,
   "metadata": {},
   "outputs": [],
   "source": [
    "import yaml\n",
    "objlist = yaml.load(open(\"objlist.yml\"), Loader=yaml.FullLoader)\n",
    "\n",
    "objlist"
   ]
  },
  {
   "cell_type": "code",
   "execution_count": null,
   "metadata": {},
   "outputs": [],
   "source": [
    "for e in enemies:\n",
    "    del enemies[e][\"islarge\"]\n",
    "strenemies = json.dumps(enemies, indent=4)\n",
    "strlocations = json.dumps(locations, indent=4)\n",
    "\n",
    "strenemies = strenemies.replace(\",\\n                \", \", \")\n",
    "strenemies = strenemies.replace(\"\\n            ]\", \" ]\")\n",
    "strenemies = strenemies.replace(\"[\\n                \", \"[ \")\n",
    "\n",
    "strlocations = strlocations.replace(\",\\n                                \",\", \")\n",
    "strlocations = strlocations.replace(\"\\n                            }\",\" }\")\n",
    "strlocations = strlocations.replace(\"{\\n                                \",\"{ \")\n",
    "\n",
    "open(fnenemies, \"w\").write(strenemies)\n",
    "open(os.path.join(\"khbr\", \"locations.json\"), \"w\").write(strlocations)"
   ]
  },
  {
   "cell_type": "code",
   "execution_count": null,
   "metadata": {},
   "outputs": [],
   "source": [
    "enemies_json = json.load(open(os.path.join(\"khbr\",\"enemies.json\")))\n",
    "import yaml\n",
    "for e in enemies_json:\n",
    "    for v in enemies_json[e][\"variations\"]:\n",
    "        if type(enemies_json[e][\"variations\"][v]) == list:\n",
    "            enemies_json[e][\"variations\"][v] = { \"vars\": enemies_json[e][\"variations\"][v]}\n",
    "yaml.dump(enemies_json, open(\"enemies.yaml\", \"w\"))"
   ]
  },
  {
   "cell_type": "code",
   "execution_count": 3,
   "metadata": {},
   "outputs": [],
   "source": [
    "yaml.dump(locations, open(\"locations_modified.yaml\",\"w\"))"
   ]
  },
  {
   "cell_type": "code",
   "execution_count": null,
   "metadata": {},
   "outputs": [],
   "source": []
  }
 ],
 "metadata": {
  "kernelspec": {
   "display_name": "Python 3",
   "language": "python",
   "name": "python3"
  },
  "language_info": {
   "codemirror_mode": {
    "name": "ipython",
    "version": 3
   },
   "file_extension": ".py",
   "mimetype": "text/x-python",
   "name": "python",
   "nbconvert_exporter": "python",
   "pygments_lexer": "ipython3",
   "version": "3.7.0"
  }
 },
 "nbformat": 4,
 "nbformat_minor": 2
}
